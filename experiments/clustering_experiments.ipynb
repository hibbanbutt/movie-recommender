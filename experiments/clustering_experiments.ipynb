{
 "cells": [
  {
   "cell_type": "code",
   "execution_count": 30,
   "metadata": {},
   "outputs": [],
   "source": [
    "import numpy as np\n",
    "import pandas as pd\n",
    "from sklearn.cluster import KMeans, DBSCAN, AgglomerativeClustering\n",
    "from sklearn.preprocessing import StandardScaler\n",
    "from sklearn.metrics import silhouette_score\n",
    "\n",
    "movies_df = pd.read_parquet(\"..\\movies_processed.parquet\")\n"
   ]
  },
  {
   "cell_type": "code",
   "execution_count": 31,
   "metadata": {},
   "outputs": [],
   "source": [
    "#Just in case: Drop any rows with missing intro_vector values:\n",
    "movies_df = movies_df.dropna(subset=[\"intro_vector\"])\n"
   ]
  },
  {
   "cell_type": "code",
   "execution_count": 32,
   "metadata": {},
   "outputs": [],
   "source": [
    "#Create a NumPy array of intro_vectors for clustering:\n",
    "intro_vectors = np.stack(movies_df[\"intro_vector\"].values)\n",
    "\n"
   ]
  },
  {
   "attachments": {},
   "cell_type": "markdown",
   "metadata": {},
   "source": [
    "##1: KMeans Clustering"
   ]
  },
  {
   "attachments": {},
   "cell_type": "markdown",
   "metadata": {},
   "source": [
    "##2: DBSCAN Clustering"
   ]
  },
  {
   "cell_type": "code",
   "execution_count": null,
   "metadata": {},
   "outputs": [],
   "source": [
    "# Create a StandardScaler to normalize the data\n",
    "scaler = StandardScaler()\n",
    "scaled_vectors = scaler.fit_transform(intro_vectors)\n",
    "\n",
    "# Experiment with different eps and min_samples values\n",
    "dbscan = DBSCAN(eps=0.5, min_samples=5)\n",
    "\n",
    "# Fit the model and predict the cluster labels\n",
    "cluster_labels = dbscan.fit_predict(scaled_vectors)\n",
    "\n",
    "# Exclude noise points (cluster label = -1)\n",
    "core_samples_mask = np.zeros_like(cluster_labels, dtype=bool)\n",
    "core_samples_mask[dbscan.core_sample_indices_] = True\n",
    "non_noise_labels = cluster_labels[core_samples_mask]"
   ]
  },
  {
   "attachments": {},
   "cell_type": "markdown",
   "metadata": {},
   "source": [
    "##3: Agglomerative Clustering"
   ]
  },
  {
   "cell_type": "code",
   "execution_count": 33,
   "metadata": {},
   "outputs": [
    {
     "name": "stdout",
     "output_type": "stream",
     "text": [
      "KMeans Clustering\n"
     ]
    },
    {
     "name": "stderr",
     "output_type": "stream",
     "text": [
      "C:\\Users\\Ahmed\\AppData\\Local\\Packages\\PythonSoftwareFoundation.Python.3.10_qbz5n2kfra8p0\\LocalCache\\local-packages\\Python310\\site-packages\\sklearn\\cluster\\_kmeans.py:870: FutureWarning: The default value of `n_init` will change from 10 to 'auto' in 1.4. Set the value of `n_init` explicitly to suppress the warning\n",
      "  warnings.warn(\n"
     ]
    },
    {
     "name": "stdout",
     "output_type": "stream",
     "text": [
      "Parameters: {'n_clusters': 3, 'random_state': 42} - Silhouette score: 0.093935526907444\n"
     ]
    },
    {
     "name": "stderr",
     "output_type": "stream",
     "text": [
      "C:\\Users\\Ahmed\\AppData\\Local\\Packages\\PythonSoftwareFoundation.Python.3.10_qbz5n2kfra8p0\\LocalCache\\local-packages\\Python310\\site-packages\\sklearn\\cluster\\_kmeans.py:870: FutureWarning: The default value of `n_init` will change from 10 to 'auto' in 1.4. Set the value of `n_init` explicitly to suppress the warning\n",
      "  warnings.warn(\n"
     ]
    },
    {
     "name": "stdout",
     "output_type": "stream",
     "text": [
      "Parameters: {'n_clusters': 4, 'random_state': 42} - Silhouette score: 0.0582636259496212\n"
     ]
    },
    {
     "name": "stderr",
     "output_type": "stream",
     "text": [
      "C:\\Users\\Ahmed\\AppData\\Local\\Packages\\PythonSoftwareFoundation.Python.3.10_qbz5n2kfra8p0\\LocalCache\\local-packages\\Python310\\site-packages\\sklearn\\cluster\\_kmeans.py:870: FutureWarning: The default value of `n_init` will change from 10 to 'auto' in 1.4. Set the value of `n_init` explicitly to suppress the warning\n",
      "  warnings.warn(\n"
     ]
    },
    {
     "name": "stdout",
     "output_type": "stream",
     "text": [
      "Parameters: {'n_clusters': 5, 'random_state': 42} - Silhouette score: 0.055404312908649445\n"
     ]
    },
    {
     "name": "stderr",
     "output_type": "stream",
     "text": [
      "C:\\Users\\Ahmed\\AppData\\Local\\Packages\\PythonSoftwareFoundation.Python.3.10_qbz5n2kfra8p0\\LocalCache\\local-packages\\Python310\\site-packages\\sklearn\\cluster\\_kmeans.py:870: FutureWarning: The default value of `n_init` will change from 10 to 'auto' in 1.4. Set the value of `n_init` explicitly to suppress the warning\n",
      "  warnings.warn(\n"
     ]
    },
    {
     "name": "stdout",
     "output_type": "stream",
     "text": [
      "Parameters: {'n_clusters': 6, 'random_state': 42} - Silhouette score: 0.04422995075583458\n"
     ]
    },
    {
     "name": "stderr",
     "output_type": "stream",
     "text": [
      "C:\\Users\\Ahmed\\AppData\\Local\\Packages\\PythonSoftwareFoundation.Python.3.10_qbz5n2kfra8p0\\LocalCache\\local-packages\\Python310\\site-packages\\sklearn\\cluster\\_kmeans.py:870: FutureWarning: The default value of `n_init` will change from 10 to 'auto' in 1.4. Set the value of `n_init` explicitly to suppress the warning\n",
      "  warnings.warn(\n"
     ]
    },
    {
     "name": "stdout",
     "output_type": "stream",
     "text": [
      "Parameters: {'n_clusters': 7, 'random_state': 42} - Silhouette score: 0.037781696766614914\n"
     ]
    },
    {
     "name": "stderr",
     "output_type": "stream",
     "text": [
      "C:\\Users\\Ahmed\\AppData\\Local\\Packages\\PythonSoftwareFoundation.Python.3.10_qbz5n2kfra8p0\\LocalCache\\local-packages\\Python310\\site-packages\\sklearn\\cluster\\_kmeans.py:870: FutureWarning: The default value of `n_init` will change from 10 to 'auto' in 1.4. Set the value of `n_init` explicitly to suppress the warning\n",
      "  warnings.warn(\n"
     ]
    },
    {
     "name": "stdout",
     "output_type": "stream",
     "text": [
      "Parameters: {'n_clusters': 8, 'random_state': 42} - Silhouette score: 0.03526654466986656\n"
     ]
    },
    {
     "name": "stderr",
     "output_type": "stream",
     "text": [
      "C:\\Users\\Ahmed\\AppData\\Local\\Packages\\PythonSoftwareFoundation.Python.3.10_qbz5n2kfra8p0\\LocalCache\\local-packages\\Python310\\site-packages\\sklearn\\cluster\\_kmeans.py:870: FutureWarning: The default value of `n_init` will change from 10 to 'auto' in 1.4. Set the value of `n_init` explicitly to suppress the warning\n",
      "  warnings.warn(\n"
     ]
    },
    {
     "name": "stdout",
     "output_type": "stream",
     "text": [
      "Parameters: {'n_clusters': 9, 'random_state': 42} - Silhouette score: 0.033546555787324905\n"
     ]
    },
    {
     "name": "stderr",
     "output_type": "stream",
     "text": [
      "C:\\Users\\Ahmed\\AppData\\Local\\Packages\\PythonSoftwareFoundation.Python.3.10_qbz5n2kfra8p0\\LocalCache\\local-packages\\Python310\\site-packages\\sklearn\\cluster\\_kmeans.py:870: FutureWarning: The default value of `n_init` will change from 10 to 'auto' in 1.4. Set the value of `n_init` explicitly to suppress the warning\n",
      "  warnings.warn(\n"
     ]
    },
    {
     "name": "stdout",
     "output_type": "stream",
     "text": [
      "Parameters: {'n_clusters': 10, 'random_state': 42} - Silhouette score: 0.03233844041824341\n",
      "\n",
      "DBSCAN Clustering\n",
      "Parameters: {'eps': 0.3, 'min_samples': 3} - Silhouette score: 1.0\n",
      "Parameters: {'eps': 0.3, 'min_samples': 5} - Not enough clusters for silhouette score calculation.\n",
      "Parameters: {'eps': 0.3, 'min_samples': 7} - Not enough clusters for silhouette score calculation.\n",
      "Parameters: {'eps': 0.3, 'min_samples': 10} - Not enough clusters for silhouette score calculation.\n",
      "Parameters: {'eps': 0.3, 'min_samples': 15} - Not enough clusters for silhouette score calculation.\n",
      "Parameters: {'eps': 0.3, 'min_samples': 20} - Not enough clusters for silhouette score calculation.\n",
      "Parameters: {'eps': 0.4, 'min_samples': 3} - Silhouette score: 1.0\n",
      "Parameters: {'eps': 0.4, 'min_samples': 5} - Not enough clusters for silhouette score calculation.\n",
      "Parameters: {'eps': 0.4, 'min_samples': 7} - Not enough clusters for silhouette score calculation.\n",
      "Parameters: {'eps': 0.4, 'min_samples': 10} - Not enough clusters for silhouette score calculation.\n",
      "Parameters: {'eps': 0.4, 'min_samples': 15} - Not enough clusters for silhouette score calculation.\n",
      "Parameters: {'eps': 0.4, 'min_samples': 20} - Not enough clusters for silhouette score calculation.\n",
      "Parameters: {'eps': 0.5, 'min_samples': 3} - Silhouette score: 1.0\n",
      "Parameters: {'eps': 0.5, 'min_samples': 5} - Not enough clusters for silhouette score calculation.\n",
      "Parameters: {'eps': 0.5, 'min_samples': 7} - Not enough clusters for silhouette score calculation.\n",
      "Parameters: {'eps': 0.5, 'min_samples': 10} - Not enough clusters for silhouette score calculation.\n",
      "Parameters: {'eps': 0.5, 'min_samples': 15} - Not enough clusters for silhouette score calculation.\n",
      "Parameters: {'eps': 0.5, 'min_samples': 20} - Not enough clusters for silhouette score calculation.\n",
      "Parameters: {'eps': 0.6, 'min_samples': 3} - Silhouette score: 1.0\n",
      "Parameters: {'eps': 0.6, 'min_samples': 5} - Not enough clusters for silhouette score calculation.\n",
      "Parameters: {'eps': 0.6, 'min_samples': 7} - Not enough clusters for silhouette score calculation.\n",
      "Parameters: {'eps': 0.6, 'min_samples': 10} - Not enough clusters for silhouette score calculation.\n",
      "Parameters: {'eps': 0.6, 'min_samples': 15} - Not enough clusters for silhouette score calculation.\n",
      "Parameters: {'eps': 0.6, 'min_samples': 20} - Not enough clusters for silhouette score calculation.\n",
      "Parameters: {'eps': 0.7, 'min_samples': 3} - Silhouette score: 1.0\n",
      "Parameters: {'eps': 0.7, 'min_samples': 5} - Not enough clusters for silhouette score calculation.\n",
      "Parameters: {'eps': 0.7, 'min_samples': 7} - Not enough clusters for silhouette score calculation.\n",
      "Parameters: {'eps': 0.7, 'min_samples': 10} - Not enough clusters for silhouette score calculation.\n",
      "Parameters: {'eps': 0.7, 'min_samples': 15} - Not enough clusters for silhouette score calculation.\n",
      "Parameters: {'eps': 0.7, 'min_samples': 20} - Not enough clusters for silhouette score calculation.\n",
      "Parameters: {'eps': 0.8, 'min_samples': 3} - Silhouette score: 1.0\n",
      "Parameters: {'eps': 0.8, 'min_samples': 5} - Not enough clusters for silhouette score calculation.\n",
      "Parameters: {'eps': 0.8, 'min_samples': 7} - Not enough clusters for silhouette score calculation.\n",
      "Parameters: {'eps': 0.8, 'min_samples': 10} - Not enough clusters for silhouette score calculation.\n",
      "Parameters: {'eps': 0.8, 'min_samples': 15} - Not enough clusters for silhouette score calculation.\n",
      "Parameters: {'eps': 0.8, 'min_samples': 20} - Not enough clusters for silhouette score calculation.\n",
      "Parameters: {'eps': 0.9, 'min_samples': 3} - Silhouette score: 1.0\n",
      "Parameters: {'eps': 0.9, 'min_samples': 5} - Not enough clusters for silhouette score calculation.\n",
      "Parameters: {'eps': 0.9, 'min_samples': 7} - Not enough clusters for silhouette score calculation.\n",
      "Parameters: {'eps': 0.9, 'min_samples': 10} - Not enough clusters for silhouette score calculation.\n",
      "Parameters: {'eps': 0.9, 'min_samples': 15} - Not enough clusters for silhouette score calculation.\n",
      "Parameters: {'eps': 0.9, 'min_samples': 20} - Not enough clusters for silhouette score calculation.\n",
      "Parameters: {'eps': 1.0, 'min_samples': 3} - Silhouette score: 1.0\n",
      "Parameters: {'eps': 1.0, 'min_samples': 5} - Not enough clusters for silhouette score calculation.\n",
      "Parameters: {'eps': 1.0, 'min_samples': 7} - Not enough clusters for silhouette score calculation.\n",
      "Parameters: {'eps': 1.0, 'min_samples': 10} - Not enough clusters for silhouette score calculation.\n",
      "Parameters: {'eps': 1.0, 'min_samples': 15} - Not enough clusters for silhouette score calculation.\n",
      "Parameters: {'eps': 1.0, 'min_samples': 20} - Not enough clusters for silhouette score calculation.\n",
      "\n",
      "Agglomerative Clustering\n",
      "Parameters: {'linkage': 'ward', 'n_clusters': 3} - Silhouette score: 0.09596071392297745\n",
      "Parameters: {'linkage': 'ward', 'n_clusters': 4} - Silhouette score: 0.03567078337073326\n",
      "Parameters: {'linkage': 'ward', 'n_clusters': 5} - Silhouette score: 0.02128717675805092\n",
      "Parameters: {'linkage': 'ward', 'n_clusters': 6} - Silhouette score: 0.02422523871064186\n",
      "Parameters: {'linkage': 'ward', 'n_clusters': 7} - Silhouette score: 0.009877742268145084\n",
      "Parameters: {'linkage': 'ward', 'n_clusters': 8} - Silhouette score: 0.013462497852742672\n",
      "Parameters: {'linkage': 'ward', 'n_clusters': 9} - Silhouette score: 0.008817790076136589\n",
      "Parameters: {'linkage': 'ward', 'n_clusters': 10} - Silhouette score: 0.0098137641325593\n",
      "Parameters: {'linkage': 'complete', 'n_clusters': 3} - Silhouette score: 0.11087076365947723\n",
      "Parameters: {'linkage': 'complete', 'n_clusters': 4} - Silhouette score: 0.11092729866504669\n",
      "Parameters: {'linkage': 'complete', 'n_clusters': 5} - Silhouette score: 0.11337310820817947\n",
      "Parameters: {'linkage': 'complete', 'n_clusters': 6} - Silhouette score: 0.1067403256893158\n",
      "Parameters: {'linkage': 'complete', 'n_clusters': 7} - Silhouette score: 0.10227221250534058\n",
      "Parameters: {'linkage': 'complete', 'n_clusters': 8} - Silhouette score: 0.10107845813035965\n",
      "Parameters: {'linkage': 'complete', 'n_clusters': 9} - Silhouette score: 0.10112025588750839\n",
      "Parameters: {'linkage': 'complete', 'n_clusters': 10} - Silhouette score: 0.032153476029634476\n",
      "Parameters: {'linkage': 'average', 'n_clusters': 3} - Silhouette score: 0.570956289768219\n",
      "Parameters: {'linkage': 'average', 'n_clusters': 4} - Silhouette score: 0.5025270581245422\n",
      "Parameters: {'linkage': 'average', 'n_clusters': 5} - Silhouette score: 0.49119681119918823\n",
      "Parameters: {'linkage': 'average', 'n_clusters': 6} - Silhouette score: 0.48104527592658997\n",
      "Parameters: {'linkage': 'average', 'n_clusters': 7} - Silhouette score: 0.4501435160636902\n",
      "Parameters: {'linkage': 'average', 'n_clusters': 8} - Silhouette score: 0.4324815273284912\n",
      "Parameters: {'linkage': 'average', 'n_clusters': 9} - Silhouette score: 0.3896200358867645\n",
      "Parameters: {'linkage': 'average', 'n_clusters': 10} - Silhouette score: 0.35210710763931274\n",
      "Parameters: {'linkage': 'single', 'n_clusters': 3} - Silhouette score: 0.570956289768219\n",
      "Parameters: {'linkage': 'single', 'n_clusters': 4} - Silhouette score: 0.49862614274024963\n",
      "Parameters: {'linkage': 'single', 'n_clusters': 5} - Silhouette score: 0.48973339796066284\n",
      "Parameters: {'linkage': 'single', 'n_clusters': 6} - Silhouette score: 0.45203256607055664\n",
      "Parameters: {'linkage': 'single', 'n_clusters': 7} - Silhouette score: 0.4467143714427948\n",
      "Parameters: {'linkage': 'single', 'n_clusters': 8} - Silhouette score: 0.4305596649646759\n",
      "Parameters: {'linkage': 'single', 'n_clusters': 9} - Silhouette score: 0.3932494521141052\n",
      "Parameters: {'linkage': 'single', 'n_clusters': 10} - Silhouette score: 0.39235836267471313\n"
     ]
    }
   ],
   "source": [
    "from sklearn.model_selection import ParameterGrid\n",
    "\n",
    "# KMeans parameter grid\n",
    "kmeans_grid = {\n",
    "    'n_clusters': [3, 4, 5, 6, 7, 8, 9, 10],\n",
    "    'random_state': [42],\n",
    "}\n",
    "\n",
    "# DBSCAN parameter grid\n",
    "dbscan_grid = {\n",
    "    'eps': [0.3, 0.4, 0.5, 0.6, 0.7, 0.8, 0.9, 1.0],\n",
    "    'min_samples': [3, 5, 7, 10, 15, 20],\n",
    "}\n",
    "\n",
    "# Agglomerative Clustering parameter grid\n",
    "agg_clustering_grid = {\n",
    "    'n_clusters': [3, 4, 5, 6, 7, 8, 9, 10],\n",
    "    'linkage': ['ward', 'complete', 'average', 'single'],\n",
    "}\n",
    "\n",
    "# KMeans clustering\n",
    "print(\"KMeans Clustering\")\n",
    "for params in ParameterGrid(kmeans_grid):\n",
    "    kmeans = KMeans(**params)\n",
    "    cluster_labels = kmeans.fit_predict(intro_vectors)\n",
    "    silhouette_avg = silhouette_score(intro_vectors, cluster_labels)\n",
    "    print(f\"Parameters: {params} - Silhouette score: {silhouette_avg}\")\n",
    "\n",
    "print(\"\\nDBSCAN Clustering\")\n",
    "for params in ParameterGrid(dbscan_grid):\n",
    "    dbscan = DBSCAN(**params)\n",
    "    cluster_labels = dbscan.fit_predict(scaled_vectors)\n",
    "\n",
    "    core_samples_mask = np.zeros_like(cluster_labels, dtype=bool)\n",
    "    core_samples_mask[dbscan.core_sample_indices_] = True\n",
    "    non_noise_labels = cluster_labels[core_samples_mask]\n",
    "\n",
    "    unique_labels = np.unique(non_noise_labels)\n",
    "    if len(unique_labels) >= 2:\n",
    "        silhouette_avg = silhouette_score(scaled_vectors[core_samples_mask], non_noise_labels, metric='euclidean')\n",
    "        print(f\"Parameters: {params} - Silhouette score: {silhouette_avg}\")\n",
    "    else:\n",
    "        print(f\"Parameters: {params} - Not enough clusters for silhouette score calculation.\")\n",
    "\n",
    "print(\"\\nAgglomerative Clustering\")\n",
    "for params in ParameterGrid(agg_clustering_grid):\n",
    "    agg_clustering = AgglomerativeClustering(**params)\n",
    "    cluster_labels = agg_clustering.fit_predict(intro_vectors)\n",
    "    silhouette_avg = silhouette_score(intro_vectors, cluster_labels)\n",
    "    print(f\"Parameters: {params} - Silhouette score: {silhouette_avg}\")\n"
   ]
  },
  {
   "cell_type": "code",
   "execution_count": 39,
   "metadata": {},
   "outputs": [
    {
     "name": "stdout",
     "output_type": "stream",
     "text": [
      "Agglomerative Clustering - Silhouette score: 0.570956289768219\n"
     ]
    }
   ],
   "source": [
    "\n",
    "\n",
    "# Set the number of clusters (experiment with different values)\n",
    "n_clusters = 3\n",
    "\n",
    "# Create the AgglomerativeClustering model\n",
    "agg_clustering = AgglomerativeClustering(n_clusters=n_clusters, linkage= 'average')\n",
    "\n",
    "# Fit the model and predict the cluster labels\n",
    "cluster_labels = agg_clustering.fit_predict(intro_vectors)\n",
    "\n",
    "# Calculate the silhouette score\n",
    "silhouette_avg = silhouette_score(intro_vectors, cluster_labels)\n",
    "print(f\"Agglomerative Clustering - Silhouette score: {silhouette_avg}\")\n"
   ]
  }
 ],
 "metadata": {
  "kernelspec": {
   "display_name": "Python 3",
   "language": "python",
   "name": "python3"
  },
  "language_info": {
   "codemirror_mode": {
    "name": "ipython",
    "version": 3
   },
   "file_extension": ".py",
   "mimetype": "text/x-python",
   "name": "python",
   "nbconvert_exporter": "python",
   "pygments_lexer": "ipython3",
   "version": "3.10.10"
  },
  "orig_nbformat": 4
 },
 "nbformat": 4,
 "nbformat_minor": 2
}
